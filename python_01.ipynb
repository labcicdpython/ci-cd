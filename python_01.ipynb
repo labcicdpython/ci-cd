{
  "nbformat": 4,
  "nbformat_minor": 0,
  "metadata": {
    "colab": {
      "provenance": [],
      "toc_visible": true,
      "authorship_tag": "ABX9TyO5lEJlCsz81rRAsEm5aw30",
      "include_colab_link": true
    },
    "kernelspec": {
      "name": "python3",
      "display_name": "Python 3"
    },
    "language_info": {
      "name": "python"
    }
  },
  "cells": [
    {
      "cell_type": "markdown",
      "metadata": {
        "id": "view-in-github",
        "colab_type": "text"
      },
      "source": [
        "<a href=\"https://colab.research.google.com/github/labcicdpython/ci-cd/blob/main/python_01.ipynb\" target=\"_parent\"><img src=\"https://colab.research.google.com/assets/colab-badge.svg\" alt=\"Open In Colab\"/></a>"
      ]
    },
    {
      "cell_type": "code",
      "execution_count": 1,
      "metadata": {
        "colab": {
          "base_uri": "https://localhost:8080/"
        },
        "id": "7FUcHIRBfkJr",
        "outputId": "614645b7-8409-49d2-e20b-9ee3ea902d3f"
      },
      "outputs": [
        {
          "output_type": "stream",
          "name": "stdout",
          "text": [
            "Olá mundo\n"
          ]
        }
      ],
      "source": [
        "print(\"Olá mundo\")"
      ]
    },
    {
      "cell_type": "code",
      "source": [
        "name = \"X\"\n",
        "print(f\"Olá {name}\")"
      ],
      "metadata": {
        "colab": {
          "base_uri": "https://localhost:8080/"
        },
        "id": "CIxmPY1jhj5Y",
        "outputId": "8e9695fb-49cc-4773-a18d-504660bacc05"
      },
      "execution_count": 2,
      "outputs": [
        {
          "output_type": "stream",
          "name": "stdout",
          "text": [
            "Olá X\n"
          ]
        }
      ]
    },
    {
      "cell_type": "code",
      "source": [
        "#### Estrutura de dados: Listas e estruturas de dados"
      ],
      "metadata": {
        "id": "ji48nUKTh1WP"
      },
      "execution_count": null,
      "outputs": []
    },
    {
      "cell_type": "code",
      "source": [
        "frutas = [\"maçã\", \"pera\", \"morango\"]"
      ],
      "metadata": {
        "id": "gcuYCnVui6nc"
      },
      "execution_count": 4,
      "outputs": []
    },
    {
      "cell_type": "code",
      "source": [
        "type(frutas)"
      ],
      "metadata": {
        "colab": {
          "base_uri": "https://localhost:8080/"
        },
        "id": "C17LvNZli9PC",
        "outputId": "afd5307f-84a7-4d09-8092-ca90e7117ca9"
      },
      "execution_count": 5,
      "outputs": [
        {
          "output_type": "execute_result",
          "data": {
            "text/plain": [
              "list"
            ]
          },
          "metadata": {},
          "execution_count": 5
        }
      ]
    },
    {
      "cell_type": "code",
      "source": [
        "frutas[0]"
      ],
      "metadata": {
        "colab": {
          "base_uri": "https://localhost:8080/",
          "height": 36
        },
        "id": "LK-G1SF-jJLN",
        "outputId": "e882f5cc-9e1f-478c-ae9d-c4d509460d84"
      },
      "execution_count": 6,
      "outputs": [
        {
          "output_type": "execute_result",
          "data": {
            "text/plain": [
              "'maçã'"
            ],
            "application/vnd.google.colaboratory.intrinsic+json": {
              "type": "string"
            }
          },
          "metadata": {},
          "execution_count": 6
        }
      ]
    },
    {
      "cell_type": "code",
      "source": [
        "frutas[:-1]"
      ],
      "metadata": {
        "colab": {
          "base_uri": "https://localhost:8080/"
        },
        "id": "jTd7SMQQjfiZ",
        "outputId": "5f3f754b-e524-460b-acfc-35fd90b3c800"
      },
      "execution_count": 7,
      "outputs": [
        {
          "output_type": "execute_result",
          "data": {
            "text/plain": [
              "['maçã', 'pera']"
            ]
          },
          "metadata": {},
          "execution_count": 7
        }
      ]
    },
    {
      "cell_type": "code",
      "source": [
        "for minhas_frutas in frutas:\n",
        "  print(f\"Minha fruta favorita é: {minhas_frutas}\")"
      ],
      "metadata": {
        "colab": {
          "base_uri": "https://localhost:8080/"
        },
        "id": "-Il4j5f9jq8M",
        "outputId": "84c19d24-c797-433d-97c0-18415158d9ee"
      },
      "execution_count": 8,
      "outputs": [
        {
          "output_type": "stream",
          "name": "stdout",
          "text": [
            "Minha fruta favorita é: maçã\n",
            "Minha fruta favorita é: pera\n",
            "Minha fruta favorita é: morango\n"
          ]
        }
      ]
    },
    {
      "cell_type": "code",
      "source": [
        "#### Dicionario"
      ],
      "metadata": {
        "id": "zkaISmvrkmtr"
      },
      "execution_count": 9,
      "outputs": []
    },
    {
      "cell_type": "code",
      "source": [
        "refeicao = {\"café da manhã\": \"pingado com ÓDIO\", \"almoço\": \"PF\", \"jantar\": \"litrão no VR\"}"
      ],
      "metadata": {
        "id": "22IJiugKkpNq"
      },
      "execution_count": 10,
      "outputs": []
    },
    {
      "cell_type": "code",
      "source": [
        "refeicao.keys()"
      ],
      "metadata": {
        "colab": {
          "base_uri": "https://localhost:8080/"
        },
        "id": "0gKmi8KnnYcA",
        "outputId": "9a5fe792-da6b-4abe-b5d8-7298a077a9e7"
      },
      "execution_count": 11,
      "outputs": [
        {
          "output_type": "execute_result",
          "data": {
            "text/plain": [
              "dict_keys(['café da manhã', 'almoço', 'jantar'])"
            ]
          },
          "metadata": {},
          "execution_count": 11
        }
      ]
    },
    {
      "cell_type": "code",
      "source": [
        "refeicao.values()"
      ],
      "metadata": {
        "colab": {
          "base_uri": "https://localhost:8080/"
        },
        "id": "f8BYK45QnjhI",
        "outputId": "631628a8-3fa9-45be-e7ee-3e8e4ae385da"
      },
      "execution_count": 14,
      "outputs": [
        {
          "output_type": "execute_result",
          "data": {
            "text/plain": [
              "dict_values(['pingado com ÓDIO', 'PF', 'litrão no VR'])"
            ]
          },
          "metadata": {},
          "execution_count": 14
        }
      ]
    },
    {
      "cell_type": "code",
      "source": [
        "for refeicao_name, refeicao_item in refeicao.items():\n",
        "  print(f\"Essa refeição {refeicao_name} contem {refeicao_item}\")"
      ],
      "metadata": {
        "colab": {
          "base_uri": "https://localhost:8080/"
        },
        "id": "vzc0QqP0n0HZ",
        "outputId": "2dd09ad6-b65f-4c22-bcaf-41ab25a2ef18"
      },
      "execution_count": 15,
      "outputs": [
        {
          "output_type": "stream",
          "name": "stdout",
          "text": [
            "Essa refeição café da manhã contem pingado com ÓDIO\n",
            "Essa refeição almoço contem PF\n",
            "Essa refeição jantar contem litrão no VR\n"
          ]
        }
      ]
    }
  ]
}